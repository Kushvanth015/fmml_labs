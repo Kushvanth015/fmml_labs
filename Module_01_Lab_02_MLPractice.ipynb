{
  "nbformat": 4,
  "nbformat_minor": 0,
  "metadata": {
    "colab": {
      "provenance": [],
      "include_colab_link": true
    },
    "kernelspec": {
      "name": "python3",
      "display_name": "Python 3"
    },
    "language_info": {
      "name": "python"
    }
  },
  "cells": [
    {
      "cell_type": "markdown",
      "metadata": {
        "id": "view-in-github",
        "colab_type": "text"
      },
      "source": [
        "<a href=\"https://colab.research.google.com/github/Kushvanth015/fmml_labs/blob/main/Module_01_Lab_02_MLPractice.ipynb\" target=\"_parent\"><img src=\"https://colab.research.google.com/assets/colab-badge.svg\" alt=\"Open In Colab\"/></a>"
      ]
    },
    {
      "cell_type": "markdown",
      "metadata": {
        "id": "3Eu9VZbF01eq"
      },
      "source": [
        "# Machine learning terms and metrics\n",
        "\n",
        "FMML Module 1, Lab 2<br>\n",
        "\n",
        "\n",
        " In this lab, we will show a part of the ML pipeline by extracting features, training and testing"
      ]
    },
    {
      "cell_type": "code",
      "metadata": {
        "id": "8qBvyEem0vLi"
      },
      "source": [
        "import matplotlib.pyplot as plt\n",
        "import numpy as np\n",
        "from sklearn import datasets\n",
        "# set randomseed\n",
        "rng = np.random.default_rng(seed=42)"
      ],
      "execution_count": 1,
      "outputs": []
    },
    {
      "cell_type": "markdown",
      "metadata": {
        "id": "u3t59g5s1HfC"
      },
      "source": [
        "In this lab, we will use the California Housing dataset. There are 20640 samples, each with 8 attributes like income of the block, age of the houses per district etc. The task is to predict the cost of the houses per district.\n",
        "\n",
        "Let us download and examine the dataset."
      ]
    },
    {
      "cell_type": "code",
      "metadata": {
        "id": "8LpqjN991GGJ",
        "colab": {
          "base_uri": "https://localhost:8080/"
        },
        "outputId": "eead3afe-0801-41fe-a76e-8fb40f9b5839"
      },
      "source": [
        " dataset =  datasets.fetch_california_housing()\n",
        " # print(dataset.DESCR)  # uncomment this if you want to know more about this dataset\n",
        " # print(dataset.keys())  # if you want to know what else is there in this dataset\n",
        " dataset.target = dataset.target.astype(np.int) # so that we can classify\n",
        " print(dataset.data.shape)\n",
        " print(dataset.target.shape)"
      ],
      "execution_count": 2,
      "outputs": [
        {
          "output_type": "stream",
          "name": "stdout",
          "text": [
            "(20640, 8)\n",
            "(20640,)\n"
          ]
        },
        {
          "output_type": "stream",
          "name": "stderr",
          "text": [
            "<ipython-input-2-60ae2e9a125e>:4: DeprecationWarning: `np.int` is a deprecated alias for the builtin `int`. To silence this warning, use `int` by itself. Doing this will not modify any behavior and is safe. When replacing `np.int`, you may wish to use e.g. `np.int64` or `np.int32` to specify the precision. If you wish to review your current use, check the release note link for additional information.\n",
            "Deprecated in NumPy 1.20; for more details and guidance: https://numpy.org/devdocs/release/1.20.0-notes.html#deprecations\n",
            "  dataset.target = dataset.target.astype(np.int) # so that we can classify\n"
          ]
        }
      ]
    },
    {
      "cell_type": "markdown",
      "metadata": {
        "id": "iNx4174W5xRg"
      },
      "source": [
        "Here is a function for calculating the 1-nearest neighbours"
      ]
    },
    {
      "cell_type": "code",
      "metadata": {
        "id": "07zpydQj1hIQ"
      },
      "source": [
        "def NN1(traindata, trainlabel, query):\n",
        "  diff  = traindata - query  # find the difference between features. Numpy automatically takes care of the size here\n",
        "  sq = diff*diff # square the differences\n",
        "  dist = sq.sum(1) # add up the squares\n",
        "  label = trainlabel[np.argmin(dist)] # our predicted label is the label of the training data which has the least distance from the query\n",
        "  return label\n",
        "\n",
        "def NN(traindata, trainlabel, testdata):\n",
        "  # we will run nearest neighbour for each sample in the test data\n",
        "  # and collect the predicted classes in an array using list comprehension\n",
        "  predlabel = np.array([NN1(traindata, trainlabel, i) for i in testdata])\n",
        "  return predlabel"
      ],
      "execution_count": 3,
      "outputs": []
    },
    {
      "cell_type": "markdown",
      "metadata": {
        "id": "03JktkfIGaje"
      },
      "source": [
        "We will also define a 'random classifier', which randomly allots labels to each sample"
      ]
    },
    {
      "cell_type": "code",
      "metadata": {
        "id": "fogWAtjyGhAH"
      },
      "source": [
        "def RandomClassifier(traindata, trainlabel, testdata):\n",
        "  # in reality, we don't need these arguments\n",
        "\n",
        "  classes = np.unique(trainlabel)\n",
        "  rints = rng.integers(low=0, high=len(classes), size=len(testdata))\n",
        "  predlabel = classes[rints]\n",
        "  return predlabel"
      ],
      "execution_count": 4,
      "outputs": []
    },
    {
      "cell_type": "markdown",
      "metadata": {
        "id": "1Hjf1KHs7fU5"
      },
      "source": [
        "Let us define a metric 'Accuracy' to see how good our learning algorithm is. Accuracy is the ratio of the number of correctly classified samples to the total number of samples. The higher the accuracy, the better the algorithm."
      ]
    },
    {
      "cell_type": "code",
      "metadata": {
        "id": "ouuCqWU07bz-"
      },
      "source": [
        "def Accuracy(gtlabel, predlabel):\n",
        "  assert len(gtlabel)==len(predlabel), \"Length of the groundtruth labels and predicted labels should be the same\"\n",
        "  correct = (gtlabel==predlabel).sum() # count the number of times the groundtruth label is equal to the predicted label.\n",
        "  return correct/len(gtlabel)"
      ],
      "execution_count": 5,
      "outputs": []
    },
    {
      "cell_type": "markdown",
      "metadata": {
        "id": "4vJFwBFa9Klw"
      },
      "source": [
        "Let us make a function to split the dataset with the desired probability."
      ]
    },
    {
      "cell_type": "code",
      "metadata": {
        "id": "Ko0VzpSM2Tdi"
      },
      "source": [
        "def split(data, label, percent):\n",
        "  # generate a random number for each sample\n",
        "  rnd = rng.random(len(label))\n",
        "  split1 = rnd<percent\n",
        "  split2 = rnd>=percent\n",
        "  split1data = data[split1,:]\n",
        "  split1label = label[split1]\n",
        "  split2data = data[split2,:]\n",
        "  split2label = label[split2]\n",
        "  return split1data, split1label, split2data, split2label"
      ],
      "execution_count": 6,
      "outputs": []
    },
    {
      "cell_type": "markdown",
      "metadata": {
        "id": "AcK3LEAJ_LGC"
      },
      "source": [
        "We will reserve 20% of our dataset as the test set. We will not change this portion throughout our experiments"
      ]
    },
    {
      "cell_type": "code",
      "metadata": {
        "id": "bBZkHBLJ1iU-",
        "colab": {
          "base_uri": "https://localhost:8080/"
        },
        "outputId": "f6f4fa09-7dd6-40e7-d276-64de96a356e1"
      },
      "source": [
        "testdata, testlabel, alltraindata, alltrainlabel = split(dataset.data, dataset.target, 20/100)\n",
        "print('Number of test samples = ', len(testlabel))\n",
        "print('Number of other samples = ', len(alltrainlabel))\n",
        "print('Percent of test data = ', len(testlabel)*100/len(dataset.target),'%')"
      ],
      "execution_count": 7,
      "outputs": [
        {
          "output_type": "stream",
          "name": "stdout",
          "text": [
            "Number of test samples =  4144\n",
            "Number of other samples =  16496\n",
            "Percent of test data =  20.07751937984496 %\n"
          ]
        }
      ]
    },
    {
      "cell_type": "markdown",
      "metadata": {
        "id": "a6Ss0Z6IAGNV"
      },
      "source": [
        "## Experiments with splits\n",
        "\n",
        "Let us reserve some of our train data as a validation set"
      ]
    },
    {
      "cell_type": "code",
      "metadata": {
        "id": "WFew2iry_7W7"
      },
      "source": [
        "traindata, trainlabel, valdata, vallabel = split(alltraindata, alltrainlabel, 75/100)"
      ],
      "execution_count": 8,
      "outputs": []
    },
    {
      "cell_type": "markdown",
      "metadata": {
        "id": "60hiu4clFN1i"
      },
      "source": [
        "What is the accuracy of our classifiers on the train dataset?"
      ]
    },
    {
      "cell_type": "code",
      "metadata": {
        "id": "DBlZDTHUFTZx",
        "colab": {
          "base_uri": "https://localhost:8080/"
        },
        "outputId": "d2690f28-3639-4e78-b848-33beb809bf7c"
      },
      "source": [
        "trainpred = NN(traindata, trainlabel, traindata)\n",
        "trainAccuracy = Accuracy(trainlabel, trainpred)\n",
        "print(\"Train accuracy using nearest neighbour is \", trainAccuracy)\n",
        "\n",
        "trainpred = RandomClassifier(traindata, trainlabel, traindata)\n",
        "trainAccuracy = Accuracy(trainlabel, trainpred)\n",
        "print(\"Train accuracy using random classifier is \", trainAccuracy)"
      ],
      "execution_count": 9,
      "outputs": [
        {
          "output_type": "stream",
          "name": "stdout",
          "text": [
            "Train accuracy using nearest neighbour is  1.0\n",
            "Train accuracy using random classifier is  0.164375808538163\n"
          ]
        }
      ]
    },
    {
      "cell_type": "markdown",
      "metadata": {
        "id": "7h08-9gJDtSy"
      },
      "source": [
        "For nearest neighbour, the train accuracy is always 1. The accuracy of the random classifier is close to 1/(number of classes) which is 0.1666 in our case.\n",
        "\n",
        "Let us predict the labels for our validation set and get the accuracy"
      ]
    },
    {
      "cell_type": "code",
      "metadata": {
        "id": "4h7bXoW_2H3v",
        "colab": {
          "base_uri": "https://localhost:8080/"
        },
        "outputId": "a4315c9f-9353-4811-bc2f-c75c54f68e51"
      },
      "source": [
        "valpred = NN(traindata, trainlabel, valdata)\n",
        "valAccuracy = Accuracy(vallabel, valpred)\n",
        "print(\"Validation accuracy using nearest neighbour is \", valAccuracy)\n",
        "\n",
        "valpred = RandomClassifier(traindata, trainlabel, valdata)\n",
        "valAccuracy = Accuracy(vallabel, valpred)\n",
        "print(\"Validation accuracy using random classifier is \", valAccuracy)"
      ],
      "execution_count": 10,
      "outputs": [
        {
          "output_type": "stream",
          "name": "stdout",
          "text": [
            "Validation accuracy using nearest neighbour is  0.34108527131782945\n",
            "Validation accuracy using random classifier is  0.1688468992248062\n"
          ]
        }
      ]
    },
    {
      "cell_type": "markdown",
      "metadata": {
        "id": "py9bLguFEjfg"
      },
      "source": [
        "Validation accuracy of nearest neighbour is considerably less than its train accuracy while the validation accuracy of random classifier is the same. However, the validation accuracy of nearest neighbour is twice that of the random classifier.\n",
        "\n",
        "Now let us try another random split and check the validation accuracy"
      ]
    },
    {
      "cell_type": "code",
      "metadata": {
        "id": "ujm3cyYzEntE",
        "colab": {
          "base_uri": "https://localhost:8080/"
        },
        "outputId": "58eb035c-e3b4-4db5-b7b7-5bd0f634b33b"
      },
      "source": [
        "traindata, trainlabel, valdata, vallabel = split(alltraindata, alltrainlabel, 75/100)\n",
        "valpred = NN(traindata, trainlabel, valdata)\n",
        "valAccuracy = Accuracy(vallabel, valpred)\n",
        "print(\"Validation accuracy of nearest neighbour is \", valAccuracy)"
      ],
      "execution_count": 11,
      "outputs": [
        {
          "output_type": "stream",
          "name": "stdout",
          "text": [
            "Validation accuracy of nearest neighbour is  0.34048257372654156\n"
          ]
        }
      ]
    },
    {
      "cell_type": "markdown",
      "metadata": {
        "id": "oSOx7U83EKie"
      },
      "source": [
        "You can run the above cell multiple times to try with different random splits.\n",
        "We notice that the accuracy is different for each run, but close together.\n",
        "\n",
        "Now let us compare it with the accuracy we get on the test dataset."
      ]
    },
    {
      "cell_type": "code",
      "metadata": {
        "id": "PNEZ5ToYBEDW",
        "colab": {
          "base_uri": "https://localhost:8080/"
        },
        "outputId": "3cd699af-fb6f-40dc-c3b1-d6a338b723ba"
      },
      "source": [
        "testpred = NN(alltraindata, alltrainlabel, testdata)\n",
        "testAccuracy = Accuracy(testlabel, testpred)\n",
        "print('Test accuracy is ', testAccuracy)"
      ],
      "execution_count": 12,
      "outputs": [
        {
          "output_type": "stream",
          "name": "stdout",
          "text": [
            "Test accuracy is  0.34917953667953666\n"
          ]
        }
      ]
    },
    {
      "cell_type": "markdown",
      "metadata": {
        "id": "w3dGD531K3gH"
      },
      "source": [
        "### Try it out for yourself and answer:\n",
        "1. How is the accuracy of the validation set affected if we increase the percentage of validation set? What happens when we reduce it?\n",
        "2. How does the size of the train and validation set affect how well we can predict the accuracy on the test set using the validation set?\n",
        "3. What do you think is a good percentage to reserve for the validation set so that thest two factors are balanced?\n",
        "\n",
        "Answer for both nearest neighbour and random classifier. You can note down the values for your experiments and plot a graph using  <a href=https://matplotlib.org/stable/gallery/lines_bars_and_markers/step_demo.html#sphx-glr-gallery-lines-bars-and-markers-step-demo-py>plt.plot<href>. Check also for extreme values for splits, like 99.9% or 0.1%"
      ]
    },
    {
      "cell_type": "markdown",
      "metadata": {
        "id": "PnYvkAZLQY7h"
      },
      "source": [
        "## Multiple Splits\n",
        "\n",
        "One way to get more accurate estimates for the test accuracy is by using <b>crossvalidation</b>. Here, we will try a simple version, where we do multiple train/val splits and take the average of validation accuracies as the test accuracy estimation. Here is a function for doing this. Note that this function will take a long time to execute."
      ]
    },
    {
      "cell_type": "code",
      "metadata": {
        "id": "E4nGCUQXBTzo"
      },
      "source": [
        "# you can use this function for random classifier also\n",
        "def AverageAccuracy(alldata, alllabel, splitpercent, iterations, classifier=NN):\n",
        "  accuracy = 0\n",
        "  for ii in range(iterations):\n",
        "    traindata, trainlabel, valdata, vallabel = split(alldata, alllabel, splitpercent)\n",
        "    valpred = classifier(traindata, trainlabel, valdata)\n",
        "    accuracy += Accuracy(vallabel, valpred)\n",
        "  return accuracy/iterations # average of all accuracies"
      ],
      "execution_count": 13,
      "outputs": []
    },
    {
      "cell_type": "code",
      "metadata": {
        "id": "H3qtNar7Bbik",
        "colab": {
          "base_uri": "https://localhost:8080/"
        },
        "outputId": "7c8336ce-609d-49b4-a064-99332cc499a3"
      },
      "source": [
        "print('Average validation accuracy is ', AverageAccuracy(alltraindata, alltrainlabel, 75/100, 10, classifier=NN))\n",
        "testpred = NN(alltraindata, alltrainlabel, testdata)\n",
        "print('test accuracy is ',Accuracy(testlabel, testpred) )"
      ],
      "execution_count": 14,
      "outputs": [
        {
          "output_type": "stream",
          "name": "stdout",
          "text": [
            "Average validation accuracy is  0.33584635395170215\n",
            "test accuracy is  0.34917953667953666\n"
          ]
        }
      ]
    },
    {
      "cell_type": "markdown",
      "metadata": {
        "id": "33GIn4x5VH-d"
      },
      "source": [
        "This is a very simple way of doing cross-validation. There are many well-known algorithms for cross-validation, like k-fold cross-validation, leave-one-out etc. This will be covered in detail in a later module. For more information about cross-validation, check <a href=https://en.wikipedia.org/wiki/Cross-validation_(statistics)>Cross-validatioin (Wikipedia)</a>\n",
        "\n",
        "### Questions\n",
        "1. Does averaging the validation accuracy across multiple splits give more consistent results?\n",
        "2. Does it give more accurate estimate of test accuracy?\n",
        "3. What is the effect of the number of iterations on the estimate? Do we get a better estimate with higher iterations?\n",
        "4. Consider the results you got for the previous questions. Can we deal with a very small train dataset or validation dataset by increasing the iterations?\n"
      ]
    },
    {
      "cell_type": "markdown",
      "source": [
        "#**1st question answer**"
      ],
      "metadata": {
        "id": "KdlmtCb3SKA_"
      }
    },
    {
      "cell_type": "markdown",
      "source": [
        "Increase the Percentage of Validation Set:\n",
        "\n",
        "Higher Validation Set Accuracy: When you increase the percentage of the validation set, you allocate more data for validation. This often leads to a more reliable and representative estimate of your model's performance on unseen data. In other words, your validation accuracy tends to be a better reflection of how your model will perform on new, unseen data.\n",
        "\n",
        "Smaller Training Set: However, the trade-off is that you have a smaller training set. With less training data, your model may have a harder time learning the underlying patterns in the data. This can result in a potential decrease in training set accuracy and may make it more challenging to train complex models."
      ],
      "metadata": {
        "id": "yX043i8LSbW9"
      }
    },
    {
      "cell_type": "markdown",
      "source": [
        "#**2nd question answer**"
      ],
      "metadata": {
        "id": "laacngiiSgLj"
      }
    },
    {
      "cell_type": "markdown",
      "source": [
        "Larger Training Set:\n",
        "\n",
        "When you have a larger training set, your model has more data to learn from. This typically results in a model that can capture more of the underlying patterns in the data, leading to better training set accuracy.\n",
        "A model trained on a larger training set may generalize better to the validation set because it has learned more about the data distribution. As a result, validation set accuracy tends to be a reasonable estimate of how well the model will perform on unseen data, such as the test set.\n",
        "Smaller Training Set:\n",
        "\n",
        "With a smaller training set, your model may struggle to capture the complexity of the data. It's more prone to overfitting, where it memorizes the training data instead of learning meaningful patterns. This can lead to high training set accuracy but poor generalization to the validation and test sets.\n",
        "Validation set accuracy may not reliably predict test set accuracy when the training set is small. The model's performance on the validation set can be misleading, as it may overfit to the validation data, resulting in an overly optimistic estimate of generalization performance."
      ],
      "metadata": {
        "id": "uEFb345IS16G"
      }
    },
    {
      "cell_type": "markdown",
      "source": [
        "#**3rd question answer**"
      ],
      "metadata": {
        "id": "zMwroh5tSkRD"
      }
    },
    {
      "cell_type": "markdown",
      "source": [
        "Small Datasets:\n",
        "\n",
        "In cases where you have a small dataset (e.g., a few hundred or fewer examples), it's common to allocate a relatively larger percentage for the validation set. A split like 20-30% for validation can help ensure that you have a reasonable amount of data for model evaluation.\n",
        "Larger Datasets:\n",
        "\n",
        "For larger datasets, you can allocate a smaller percentage to the validation set. A common choice is 10-20% or even less, as there is more data available for training, and you can afford to set aside a smaller portion for validation.\n",
        "Complex Models:\n",
        "\n",
        "If you are working with complex models (e.g., deep neural networks with many parameters), you may want to allocate a larger validation set to help ensure that the model generalizes well. Complex models have a higher capacity to overfit the training data, so a larger validation set can be beneficial."
      ],
      "metadata": {
        "id": "W6REI1prTgQb"
      }
    },
    {
      "cell_type": "markdown",
      "source": [
        "#**1st question answer**"
      ],
      "metadata": {
        "id": "iK0Cuc74Qtov"
      }
    },
    {
      "cell_type": "markdown",
      "source": [
        "Reduced Variance: Cross-validation helps reduce the variance in your performance estimate. When you split your dataset into multiple subsets (folds) and train/validate your model on different combinations of these subsets, you obtain multiple performance metrics. Averaging these metrics provides a more stable estimate of model performance by reducing the influence of random data variations.\n",
        "\n",
        "Better Representativeness: Different random splits of your data can lead to varying validation results. By averaging these results, you ensure that your performance estimate is not overly influenced by a single, possibly unrepresentative, validation split."
      ],
      "metadata": {
        "id": "Zvv4Q_ATQ6WL"
      }
    },
    {
      "cell_type": "markdown",
      "source": [],
      "metadata": {
        "id": "u8HBnpr5TSKd"
      }
    },
    {
      "cell_type": "markdown",
      "source": [],
      "metadata": {
        "id": "YzCPWNFJTXCY"
      }
    },
    {
      "cell_type": "markdown",
      "source": [
        "#**2nd question answer**"
      ],
      "metadata": {
        "id": "j_XIw0VTQ8bD"
      }
    },
    {
      "cell_type": "markdown",
      "source": [
        "Cross-validation is Still on Training Data: In cross-validation, you are partitioning your dataset into training and validation subsets, but these subsets are still drawn from your original dataset. They are not entirely independent of the training data. Therefore, while cross-validation provides a more robust estimate of how well your model generalizes to unseen data, it's not the same as testing on entirely new, unseen data.\n",
        "\n",
        "Assumption of Stationarity: Cross-validation assumes that the data distribution is stationary, meaning that the underlying data distribution does not change significantly between different folds. If this assumption is violated, cross-validation results may not accurately reflect how the model will perform on new data."
      ],
      "metadata": {
        "id": "BVRFTZcMRSXT"
      }
    },
    {
      "cell_type": "markdown",
      "source": [
        "#**3rd question answer**"
      ],
      "metadata": {
        "id": "ZUDnNJxTRVKE"
      }
    },
    {
      "cell_type": "markdown",
      "source": [
        "Higher Iterations (More Folds):\n",
        "\n",
        "Pros: Using more folds (higher iterations) can provide a more accurate estimate of model performance. With more iterations, you're essentially using a larger portion of your data for validation, reducing the variability in the estimate.\n",
        "Cons: Using more folds can be computationally expensive, especially if your dataset is large or your model is complex. It may also lead to longer training times, as the model needs to be trained and validated multiple times.\n",
        "Lower Iterations (Fewer Folds):\n",
        "\n",
        "Pros: Fewer folds are computationally faster, which can be advantageous when you have limited computational resources or need to perform cross-validation quickly.\n",
        "Cons: With fewer iterations, you have a smaller sample size for estimating model performance. This can result in higher variability in the estimates, making them less reliable. It may also lead to a less accurate representation of how well your model generalizes to unseen data."
      ],
      "metadata": {
        "id": "AD4zJ9HdRkF_"
      }
    },
    {
      "cell_type": "markdown",
      "source": [
        "#**4th question answer**"
      ],
      "metadata": {
        "id": "AJX7anQtR6LJ"
      }
    },
    {
      "cell_type": "markdown",
      "source": [
        "Small Training Dataset:\n",
        "\n",
        "If your training dataset is very small, increasing the number of iterations in cross-validation can help by allowing your model to be trained on more diverse subsets of the data. This can potentially lead to a more stable and reliable estimate of model performance.\n",
        "Small Validation Dataset:\n",
        "\n",
        "If your validation dataset is small, increasing the number of iterations in cross-validation can also be beneficial. With more iterations, you're using different portions of the data for validation, which can reduce the impact of having a small validation set.\n",
        "However, there are limitations to consider:\n",
        "\n",
        "Diminishing Returns: While increasing the number of iterations can improve the robustness of your estimate, there are diminishing returns. Eventually, the gains in estimate reliability may not justify the increased computational cost.\n",
        "\n",
        "Model Complexity: If your model is very complex, it may require a relatively larger training dataset to generalize effectively. Cross-validation can help, but it can't fundamentally address the limitations of having an extremely small training dataset.\n",
        "\n",
        "Bias-Variance Trade-off: Increasing the number of iterations can reduce the variance in your estimate, but it may introduce bias. If your dataset is extremely small, repeatedly splitting it into smaller subsets for validation can lead to overly optimistic or pessimistic estimates."
      ],
      "metadata": {
        "id": "dBJ9o_7FR_C9"
      }
    }
  ]
}